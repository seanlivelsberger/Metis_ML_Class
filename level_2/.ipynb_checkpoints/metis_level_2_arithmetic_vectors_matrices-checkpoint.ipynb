{
 "cells": [
  {
   "cell_type": "markdown",
   "metadata": {},
   "source": [
    "#  Arithmetic with vectors and matrices\n",
    "\n",
    "In this notebook we review some elementary arithmetic done with vectors and matrices (or arrays).   \n",
    "\n",
    "------\n",
    "This isn't a notebook you just read - you'll need to complete several coding portions of it (either individually or in groups) and think about the questions posed herein in order to build up your intuitive understanding of these algorithms, as well as your practical ability to use them via scikit-learn.  Whenever you see 'TODO' please do perform the requested task.\n",
    "\n",
    "In other words, this is 'learning by discovery' notebook where you (either individually or in small groups) will start to build up your understanding of machine learning by doing real work and discussing it with your peers and instructors.  This is the best way to learn anything, far more effective than a book or lecture series."
   ]
  },
  {
   "cell_type": "markdown",
   "metadata": {},
   "source": [
    "#  1.  Arithmetic of vectors\n",
    "\n",
    "## Basic concepts\n",
    "\n",
    "Vectors are just generalized scalars - they are one dimensional arrays of numbers - and come in two forms: rows or columns.\n",
    "\n",
    "A row vector is a long horizontal array of numbers like the one below.\n",
    "\n",
    "\n",
    "$\\mathbf{x}=\\left[\\begin{array}{ccc}\n",
    "3.7 & 1 & 0.4\\end{array}\\right]$\n",
    "\n",
    "The dimensions of this vector are 1 by 3 (or written 1 x 3 for short) - indicating it is a row vector with 3 entries.\n",
    "\n",
    "The other type of vector is a column vector - a long vertical array of numbers like the one below.\n",
    "\n",
    "$\\mathbf{x}=\\left[\\begin{array}{c}\n",
    "1\\\\\n",
    "1\\\\\n",
    "7\\\\\n",
    "0.4\n",
    "\\end{array}\\right]$\n",
    "\n",
    "The dimensions of this vector are 4 by 1 (4 x 1 for short) - indicating it is a column vector with 4 entries.\n",
    "\n",
    "We can flip or 'transpose' a column vector to make it a row vector, and vice versa.  This is denoted with a superscript 'T' - as in $\\mathbf{x}^{T}$.\n",
    "\n",
    "So for example if \n",
    "\n",
    "$\\mathbf{x}=\\left[\\begin{array}{ccc}\n",
    "3.7 & 1 & 0.4\\end{array}\\right]$  \n",
    "\n",
    "is a 1x3 row vector then\n",
    "\n",
    "$\\mathbf{x}^{T}=\\left[\\begin{array}{c}\n",
    "3.7\\\\\n",
    "1\\\\\n",
    "0.4\n",
    "\\end{array}\\right]$\n",
    "\n",
    "is a 3x1 column vector.  Whenever you transpose a vector you always switch its dimensions - so a 1xN vector becomes an Nx1 vector after transposing (and vice versa).\n",
    "\n",
    "Note: a general 1xN row vector is denoted by \n",
    "\n",
    "$\\mathbf{x}=\\left[\\begin{array}{cccc}\n",
    "x_{1} & x_{2} & \\cdots & x_{N}\\end{array}\\right]$\n",
    "\n",
    "and its transpose - an Nx1 column vector - can be written using transpose notation as \n",
    "\n",
    "\n",
    "$\\mathbf{x}=\\left[\\begin{array}{cccc}\n",
    "x_{1} & x_{2} & \\cdots & x_{N}\\end{array}\\right]^{T}$"
   ]
  },
  {
   "cell_type": "markdown",
   "metadata": {},
   "source": [
    "Lets look at this functionality in Python's Numpy library - a great library for performing computations with vectors and matrices."
   ]
  },
  {
   "cell_type": "code",
   "execution_count": 3,
   "metadata": {
    "collapsed": false
   },
   "outputs": [],
   "source": [
    "import numpy as np       # import statement for numpy\n",
    "x = np.asarray([3.7,1,0.4])"
   ]
  },
  {
   "cell_type": "markdown",
   "metadata": {},
   "source": [
    "Note that by default an array initialized in this way is *dimensionless* - which you can see by printing its shape as follows."
   ]
  },
  {
   "cell_type": "code",
   "execution_count": 4,
   "metadata": {
    "collapsed": false
   },
   "outputs": [
    {
     "name": "stdout",
     "output_type": "stream",
     "text": [
      "(3,)\n"
     ]
    }
   ],
   "source": [
    "print np.shape(x)"
   ]
  },
  {
   "cell_type": "markdown",
   "metadata": {},
   "source": [
    "We can re-shape this array as a row vector by performing the following action."
   ]
  },
  {
   "cell_type": "code",
   "execution_count": 7,
   "metadata": {
    "collapsed": false
   },
   "outputs": [
    {
     "name": "stdout",
     "output_type": "stream",
     "text": [
      "(1, 3)\n"
     ]
    }
   ],
   "source": [
    "x.shape = (1,3)     # this reshapes the array as a row vector\n",
    "print np.shape(x)"
   ]
  },
  {
   "cell_type": "markdown",
   "metadata": {},
   "source": [
    "To shape this array as a column we use a similar line as follows."
   ]
  },
  {
   "cell_type": "code",
   "execution_count": 8,
   "metadata": {
    "collapsed": false
   },
   "outputs": [
    {
     "name": "stdout",
     "output_type": "stream",
     "text": [
      "(3, 1)\n"
     ]
    }
   ],
   "source": [
    "x.shape = (3,1)\n",
    "print np.shape(x)"
   ]
  },
  {
   "cell_type": "markdown",
   "metadata": {},
   "source": [
    "We can also transpose a numpy vector by writing --> x.T   Print this out we can see that the vector is indeed transposed."
   ]
  },
  {
   "cell_type": "code",
   "execution_count": 11,
   "metadata": {
    "collapsed": false
   },
   "outputs": [
    {
     "name": "stdout",
     "output_type": "stream",
     "text": [
      "the original vector - is a column vector\n",
      "[[ 3.7]\n",
      " [ 1. ]\n",
      " [ 0.4]]\n",
      "the transpose is a row vector\n",
      "[[ 3.7  1.   0.4]]\n"
     ]
    }
   ],
   "source": [
    "print 'the original vector - is a column vector'\n",
    "print x\n",
    "print 'the transpose is a row vector'\n",
    "print x.T"
   ]
  },
  {
   "cell_type": "markdown",
   "metadata": {},
   "source": [
    "## Adding and subtracting vectors\n",
    "\n",
    "Adding and subtracting vectors is just like adding and subtracting scalars - with one caveat: you can only add vectors that have the same dimensions.  So you *can't* add two row vectors of different lengths, or a row vector and column vector.  So for example to add two Nx1 column vectors \n",
    "\n",
    "$\\mathbf{x}=\\left[\\begin{array}{c}\n",
    "x_{1}\\\\\n",
    "x_{2}\\\\\n",
    "\\vdots\\\\\n",
    "x_{N}\n",
    "\\end{array}\\right],\\,\\,\\,\\,\\,\\,\\,\\mathbf{y}=\\left[\\begin{array}{c}\n",
    "y_{1}\\\\\n",
    "y_{2}\\\\\n",
    "\\vdots\\\\\n",
    "y_{N}\n",
    "\\end{array}\\right]$\n",
    "\n",
    "we add them *entry-wise* as \n",
    "\n",
    "$\\mathbf{x}+\\mathbf{y}={\\left[\\begin{array}{c}\n",
    "x_{1}+y_{1}\\\\\n",
    "x_{2}+y_{2}\\\\\n",
    "\\vdots\\\\\n",
    "x_{N}+y_{N}\n",
    "\\end{array}\\right]}$\n",
    "\n",
    "The same holds for subtraction - its done entrywise."
   ]
  },
  {
   "cell_type": "markdown",
   "metadata": {},
   "source": [
    "Lets try some addition experiments in numpy."
   ]
  },
  {
   "cell_type": "code",
   "execution_count": 12,
   "metadata": {
    "collapsed": false
   },
   "outputs": [
    {
     "name": "stdout",
     "output_type": "stream",
     "text": [
      "[[ 1]\n",
      " [ 7]\n",
      " [10]]\n"
     ]
    }
   ],
   "source": [
    "x = np.array([1,4,2])\n",
    "x.shape = (3,1)\n",
    "y = np.array([0,3,8])\n",
    "y.shape = (3,1)\n",
    "print (x+y)"
   ]
  },
  {
   "cell_type": "markdown",
   "metadata": {},
   "source": [
    "But if we try to add two vectors that aren't the same shape - we'll get into trouble - and numpy will throw an error reflecting this."
   ]
  },
  {
   "cell_type": "code",
   "execution_count": 15,
   "metadata": {
    "collapsed": false
   },
   "outputs": [
    {
     "ename": "ValueError",
     "evalue": "operands could not be broadcast together with shapes (2,1) (3,1) ",
     "output_type": "error",
     "traceback": [
      "\u001b[0;31m---------------------------------------------------------------------------\u001b[0m",
      "\u001b[0;31mValueError\u001b[0m                                Traceback (most recent call last)",
      "\u001b[0;32m<ipython-input-15-c7e52ea59d50>\u001b[0m in \u001b[0;36m<module>\u001b[0;34m()\u001b[0m\n\u001b[1;32m      3\u001b[0m \u001b[0my\u001b[0m \u001b[0;34m=\u001b[0m \u001b[0mnp\u001b[0m\u001b[0;34m.\u001b[0m\u001b[0marray\u001b[0m\u001b[0;34m(\u001b[0m\u001b[0;34m[\u001b[0m\u001b[0;36m0\u001b[0m\u001b[0;34m,\u001b[0m\u001b[0;36m3\u001b[0m\u001b[0;34m,\u001b[0m\u001b[0;36m8\u001b[0m\u001b[0;34m]\u001b[0m\u001b[0;34m)\u001b[0m\u001b[0;34m\u001b[0m\u001b[0m\n\u001b[1;32m      4\u001b[0m \u001b[0my\u001b[0m\u001b[0;34m.\u001b[0m\u001b[0mshape\u001b[0m \u001b[0;34m=\u001b[0m \u001b[0;34m(\u001b[0m\u001b[0;36m3\u001b[0m\u001b[0;34m,\u001b[0m\u001b[0;36m1\u001b[0m\u001b[0;34m)\u001b[0m\u001b[0;34m\u001b[0m\u001b[0m\n\u001b[0;32m----> 5\u001b[0;31m \u001b[0;32mprint\u001b[0m \u001b[0;34m(\u001b[0m\u001b[0mx\u001b[0m\u001b[0;34m+\u001b[0m\u001b[0my\u001b[0m\u001b[0;34m)\u001b[0m\u001b[0;34m\u001b[0m\u001b[0m\n\u001b[0m",
      "\u001b[0;31mValueError\u001b[0m: operands could not be broadcast together with shapes (2,1) (3,1) "
     ]
    }
   ],
   "source": [
    "x = np.array([1,4])\n",
    "x.shape = (2,1)\n",
    "y = np.array([0,3,8])\n",
    "y.shape = (3,1)\n",
    "print (x+y)"
   ]
  },
  {
   "cell_type": "markdown",
   "metadata": {},
   "source": [
    "## Multiplying a vector by a scalar\n",
    "\n",
    "We can multiply vectors by a scalar in a natural way - to multiply a vector by a scalar multiply each entry of the vector by that scalar.  \n",
    "\n",
    "For example, to multiply the vector \n",
    "\n",
    "\n",
    "$\\mathbf{x}=\\left[\\begin{array}{c}\n",
    "2\\\\\n",
    "4\\\\\n",
    "1\n",
    "\\end{array}\\right]$\n",
    "\n",
    "\n",
    "by 3 we have\n",
    "\n",
    "\n",
    "$3\\cdot\\mathbf{\\mathbf{x}}=\\left[\\begin{array}{c}\n",
    "3\\cdot2\\\\\n",
    "3\\cdot4\\\\\n",
    "3\\cdot1\n",
    "\\end{array}\\right]=\\left[\\begin{array}{c}\n",
    "6\\\\\n",
    "12\\\\\n",
    "3\n",
    "\\end{array}\\right]$\n",
    "\n",
    "In Python we can compute this simply as "
   ]
  },
  {
   "cell_type": "code",
   "execution_count": 51,
   "metadata": {
    "collapsed": false
   },
   "outputs": [
    {
     "name": "stdout",
     "output_type": "stream",
     "text": [
      "[[ 6]\n",
      " [12]\n",
      " [ 3]]\n"
     ]
    }
   ],
   "source": [
    "x = np.array([2,4,1])\n",
    "x.shape = (3,1)\n",
    "print 3*x"
   ]
  },
  {
   "cell_type": "markdown",
   "metadata": {},
   "source": [
    "This holds in general for a general Nx1 vector $\\bf{x}$ - to multiply it by any scalar $\\alpha$ we compute\n",
    "\n",
    "$\\alpha\\cdot\\mathbf{x}=\\left[\\begin{array}{c}\n",
    "\\alpha\\cdot x_{1}\\\\\n",
    "\\alpha\\cdot x_{2}\\\\\n",
    "\\vdots\\\\\n",
    "\\alpha\\cdot x_{N}\n",
    "\\end{array}\\right]$"
   ]
  },
  {
   "cell_type": "markdown",
   "metadata": {},
   "source": [
    "## Multiplying two vectors - the inner product\n",
    "\n",
    "Multiplying vectors generalizes the concept of multiplication of scalar values.  To multiply to Nx1 length vectors we multiply them entry-wise and add up the result - **giving a scalar value** (just like scalar multiplication).  That is \n",
    "\n",
    "$\\mathbf{x}^{T}\\mathbf{y}=\\left[\\begin{array}{c}\n",
    "x_{1}\\\\\n",
    "x_{2}\\\\\n",
    "\\vdots\\\\\n",
    "x_{N}\n",
    "\\end{array}\\right]^{T}\\left[\\begin{array}{c}\n",
    "y_{1}\\\\\n",
    "y_{2}\\\\\n",
    "\\vdots\\\\\n",
    "y_{N}\n",
    "\\end{array}\\right]=x_{1}y_{1}+x_{2}y_{2}+\\cdots x_{N}y_{N}$\n",
    "\n",
    "\n",
    "Using summation notation we can write this more compactly.  Summation notation zips up - notationally speaking - sums.  For example, to sum up $N$ numbers $a_1, a_2,...,a_N$ we can write \n",
    "\n",
    "$a_1 + a_2 + ... + a_N = \\sum_{n=1}^{n=N}a_n$\n",
    "\n",
    "We can write the mutliplication of two vectors compactly then as \n",
    "\n",
    "$\\mathbf{x}^{T}\\mathbf{y}=x_{1}y_{1}+x_{2}y_{2}+\\cdots x_{N}y_{N}=\\sum_{n=1}^{n=N}{x_ny_n}$\n",
    "\n",
    "This vector multiplication is known as the **inner product**.  \n",
    "\n",
    "Lets try computing the inner product using numpy and a few example vectors.  Note that in order to compute the inner product in numpy you must use the np.dot function.  "
   ]
  },
  {
   "cell_type": "code",
   "execution_count": 27,
   "metadata": {
    "collapsed": false
   },
   "outputs": [
    {
     "name": "stdout",
     "output_type": "stream",
     "text": [
      "28\n"
     ]
    }
   ],
   "source": [
    "x = np.array([1,4,2])\n",
    "x.shape = (3,1)\n",
    "y = np.array([0,3,8])\n",
    "y.shape = (3,1)\n",
    "print (np.dot(x.T,y))[0][0]"
   ]
  },
  {
   "cell_type": "markdown",
   "metadata": {},
   "source": [
    "Notice how writing x*y in Python does not give you a single - this gives a vector whose entries are the product of the entries of each vector.  e.g., "
   ]
  },
  {
   "cell_type": "code",
   "execution_count": 22,
   "metadata": {
    "collapsed": false
   },
   "outputs": [
    {
     "name": "stdout",
     "output_type": "stream",
     "text": [
      "[[ 0]\n",
      " [12]\n",
      " [16]]\n"
     ]
    }
   ],
   "source": [
    "print x*y"
   ]
  },
  {
   "cell_type": "markdown",
   "metadata": {},
   "source": [
    "So another way to get the inner product is to sum this entry-wise vector multiplication."
   ]
  },
  {
   "cell_type": "code",
   "execution_count": 26,
   "metadata": {
    "collapsed": false
   },
   "outputs": [
    {
     "name": "stdout",
     "output_type": "stream",
     "text": [
      "28\n",
      "28\n"
     ]
    }
   ],
   "source": [
    "print np.sum(x*y)\n",
    "print np.dot(x.T,y)[0][0]"
   ]
  },
  {
   "cell_type": "markdown",
   "metadata": {},
   "source": [
    "# TODO\n",
    "\n",
    "### TODO\n",
    "\n",
    "Verify whether the following relationship involving the inner product \n",
    "\n",
    "$\\left(\\mathbf{x}+\\mathbf{y}\\right)^{T}\\mathbf{z}=\\mathbf{x}^{T}\\mathbf{z}+\\mathbf{y}^{T}\\mathbf{z}$\n",
    "\n",
    "is true or false.  \n",
    "\n",
    "Creating a few test vectors using numpy to check see if the relationship holds for them numerically."
   ]
  },
  {
   "cell_type": "markdown",
   "metadata": {},
   "source": [
    "## Multiplying two vectors - the outer product\n",
    "\n",
    "Another way to multiply vectors is called the **outer product**.  This is defined for two Nx1 column vectors $\\bf{x}$ and $\\bf{y}$\n",
    "\n",
    "$\\mathbf{x}=\\left[\\begin{array}{c}\n",
    "x_{1}\\\\\n",
    "x_{2}\\\\\n",
    "\\vdots\\\\\n",
    "x_{N}\n",
    "\\end{array}\\right],\\,\\,\\,\\,\\,\\,\\,\\mathbf{y}=\\left[\\begin{array}{c}\n",
    "y_{1}\\\\\n",
    "y_{2}\\\\\n",
    "\\vdots\\\\\n",
    "y_{N}\n",
    "\\end{array}\\right]$\n",
    "\n",
    "\n",
    "as\n",
    "\n",
    "\n",
    "$\\mathbf{x}\\mathbf{y}^{T}=\\left[\\begin{array}{c}\n",
    "x_{1}\\\\\n",
    "x_{2}\\\\\n",
    "\\vdots\\\\\n",
    "x_{N}\n",
    "\\end{array}\\right]\\left[\\begin{array}{c}\n",
    "y_{1}\\\\\n",
    "y_{2}\\\\\n",
    "\\vdots\\\\\n",
    "y_{N}\n",
    "\\end{array}\\right]^{T}=\\left[\\begin{array}{cccc}\n",
    "x_{1}y_{1} & x_{1}y_{2} & \\cdots & x_{1}y_{N}\\\\\n",
    "x_{2}y_{1} & x_{2}y_{2} &  & \\vdots\\\\\n",
    "\\vdots &  & \\ddots & \\vdots\\\\\n",
    "x_{N}y_{1} & \\cdots & \\cdots & x_{N}y_{N}\n",
    "\\end{array}\\right]$\n",
    "\n",
    "\n",
    "So for example, for two vectors \n",
    "\n",
    "$\\mathbf{x}=\\left[\\begin{array}{c}\n",
    "2\\\\\n",
    "4\\\\\n",
    "1\n",
    "\\end{array}\\right]\\,\\,\\,\\,\\mathbf{y}=\\left[\\begin{array}{c}\n",
    "3\\\\\n",
    "0\\\\\n",
    "5\n",
    "\\end{array}\\right]$\n",
    "\n",
    "the outer product is \n",
    "\n",
    "$\\mathbf{x}\\mathbf{y}^{T}=\\left[\\begin{array}{ccc}\n",
    "2\\cdot3 & 2\\cdot0 & 2\\cdot5\\\\\n",
    "4\\cdot3 & 4\\cdot0 & 4\\cdot5\\\\\n",
    "1\\cdot3 & 1\\cdot0 & 1\\cdot5\n",
    "\\end{array}\\right]=\\left[\\begin{array}{ccc}\n",
    "6 & 0 & 10\\\\\n",
    "12 & 0 & 20\\\\\n",
    "3 & 0 & 5\n",
    "\\end{array}\\right]$"
   ]
  },
  {
   "cell_type": "markdown",
   "metadata": {},
   "source": [
    "In Python we can compute this outer product as "
   ]
  },
  {
   "cell_type": "code",
   "execution_count": 28,
   "metadata": {
    "collapsed": false
   },
   "outputs": [
    {
     "name": "stdout",
     "output_type": "stream",
     "text": [
      "[[ 6  0 10]\n",
      " [12  0 20]\n",
      " [ 3  0  5]]\n"
     ]
    }
   ],
   "source": [
    "x = np.array([2,4,1])\n",
    "x.shape = (3,1)\n",
    "y = np.array([3,0,5])\n",
    "y.shape = (3,1)\n",
    "print x*y.T"
   ]
  },
  {
   "cell_type": "markdown",
   "metadata": {},
   "source": [
    "### TODO\n",
    "\n",
    "Verify whether the following relationship involving the outer product \n",
    "\n",
    "$\\left(\\mathbf{x}+\\mathbf{y}\\right)\\mathbf{z}^{T}=\\mathbf{x}\\mathbf{z}^{T}+\\mathbf{y}\\mathbf{z}^{T}$\n",
    "\n",
    "is true or false.\n",
    "\n",
    "Creating a few test vectors using numpy to check see if the relationship holds for them numerically."
   ]
  },
  {
   "cell_type": "markdown",
   "metadata": {},
   "source": [
    "# 2.  Arithmetic with matrices\n",
    "\n",
    "This works analagously to that of vectors.  e.g., you can only add matrices of the same size, multiplication works as an inner product, etc.  Here we quickly review a few fundamental operations on matrices.\n",
    "\n",
    "Suppose you have $P$ row vectors - each of length $N$\n",
    "\n",
    "$\\mathbf{x}_{1}=\\left[\\begin{array}{cccc}\n",
    "x_{11} & x_{12} & \\cdots & x_{1N}\\end{array}\\right]$\n",
    "\n",
    "$\\mathbf{x}_{2}=\\left[\\begin{array}{cccc}\n",
    "x_{21} & x_{22} & \\cdots & x_{2N}\\end{array}\\right]$\n",
    "\n",
    "$\\vdots$\n",
    "\n",
    "$\\mathbf{x}_{P}=\\left[\\begin{array}{cccc}\n",
    "x_{P1} & x_{P2} & \\cdots & x_{PN}\\end{array}\\right]$\n",
    "\n",
    "Notce how the elements of each vector have 2 indices now - the first index tells us which vector the element belongs too.  The second indexes the element in the vector itself.  \n",
    "\n",
    "If you stack these row vectors on top of each other you create a matrix with $P$ rows and $N$ columns - referred to as a $P \\times N$ maatrix\n",
    "\n",
    "$\\mathbf{X}=\\left[\\begin{array}{cccc}\n",
    "x_{11} & x_{12} & \\cdots & x_{1N}\\\\\n",
    "x_{21} & x_{22} & \\cdots & x_{2N}\\\\\n",
    "\\vdots & \\vdots & \\ddots & \\vdots\\\\\n",
    "x_{P1} & x_{P2} & \\cdots & x_{PN}\n",
    "\\end{array}\\right]$\n",
    "\n",
    "Whereas each of the individual row vectors was *one-dimensional*, this matrix has *two dimensions*."
   ]
  },
  {
   "cell_type": "markdown",
   "metadata": {},
   "source": [
    "### Adding matrices\n",
    "\n",
    "If you have two matrices \n",
    "\n",
    "$\\mathbf{X}=\\left[\\begin{array}{cccc}\n",
    "x_{11} & x_{12} & \\cdots & x_{1N}\\\\\n",
    "x_{21} & x_{22} & \\cdots & x_{2N}\\\\\n",
    "\\vdots & \\vdots & \\ddots & \\vdots\\\\\n",
    "x_{P1} & x_{P2} & \\cdots & x_{PN}\n",
    "\\end{array}\\right]$\n",
    "\n",
    "and\n",
    "\n",
    "$\\mathbf{Y}=\\left[\\begin{array}{cccc}\n",
    "y_{11} & y_{12} & \\cdots & y_{1N}\\\\\n",
    "y_{21} & y_{22} & \\cdots & y_{2N}\\\\\n",
    "\\vdots & \\vdots & \\ddots & \\vdots\\\\\n",
    "y_{P1} & y_{P2} & \\cdots & y_{PN}\n",
    "\\end{array}\\right]$\n",
    "\n",
    "then to add them - much like vectors - you just add element-wise.  i.e.,\n",
    "\n",
    "$\\mathbf{X}+\\mathbf{Y}=\\left[\\begin{array}{cccc}\n",
    "x_{11}+y_{11} & x_{12}+y_{12} & \\cdots & x_{1N}+y_{1N}\\\\\n",
    "x_{21}+y_{21} & x_{22}+y_{22} & \\cdots & x_{2N}+y_{2N}\\\\\n",
    "\\vdots & \\vdots & \\ddots & \\vdots\\\\\n",
    "x_{P1}+y_{P1} & x_{P2}+y_{P2} & \\cdots & x_{PN}+y_{PN}\n",
    "\\end{array}\\right]$\n",
    "\n",
    "Lets try a few computations in Python."
   ]
  },
  {
   "cell_type": "code",
   "execution_count": 8,
   "metadata": {
    "collapsed": false
   },
   "outputs": [
    {
     "name": "stdout",
     "output_type": "stream",
     "text": [
      "[[0 1 2]\n",
      " [1 4 2]\n",
      " [5 3 1]]\n",
      "the shape of X is (3, 3)\n",
      "X is of type <type 'numpy.ndarray'>\n"
     ]
    }
   ],
   "source": [
    "import numpy as np\n",
    "\n",
    "# this is how you define a 3 x 3 matrix (or array) using numpy\n",
    "X = np.array([[0,1,2],[1,4,2],[5,3,1]])\n",
    "print X\n",
    "print 'the shape of X is ' + str(np.shape(X))\n",
    "print 'X is of type ' + str(type(X))"
   ]
  },
  {
   "cell_type": "markdown",
   "metadata": {},
   "source": [
    "Note a few things.\n",
    "\n",
    "First: in numpy we are using what is called an *array* - which is a slight generalization of a matrix.  There is a[matrix subclass of arrays in numpy - which basically allows for [more natural writing of matrix multiplication in Python](http://stackoverflow.com/questions/4151128/what-are-the-differences-between-numpy-arrays-and-matrices-which-one-should-i-u) - but its much more common to see people using array objects so thats what we'll use here.\n",
    "\n",
    "Second: the numpy array is a specific kind of data structure.  If you just write this in Python"
   ]
  },
  {
   "cell_type": "code",
   "execution_count": 9,
   "metadata": {
    "collapsed": false
   },
   "outputs": [
    {
     "name": "stdout",
     "output_type": "stream",
     "text": [
      "[[0, 1, 2], [1, 4, 2], [5, 3, 1]]\n",
      "(3, 3)\n",
      "X is of type <type 'list'>\n"
     ]
    }
   ],
   "source": [
    "X = [[0,1,2],[1,4,2],[5,3,1]]\n",
    "print X\n",
    "print np.shape(X)\n",
    "print 'X is of type ' + str(type(X))"
   ]
  },
  {
   "cell_type": "markdown",
   "metadata": {},
   "source": [
    "you get a 3 x 3 *list*, not a 3 x 3 array.  You can't perform all the matrix-like arithmetical operations (in particular multiplication) with lists.\n",
    "\n",
    "You can however transform a list like this into an array by just doing"
   ]
  },
  {
   "cell_type": "code",
   "execution_count": 11,
   "metadata": {
    "collapsed": false
   },
   "outputs": [
    {
     "name": "stdout",
     "output_type": "stream",
     "text": [
      "[[0 1 2]\n",
      " [1 4 2]\n",
      " [5 3 1]]\n",
      "(3, 3)\n",
      "X is of type <type 'numpy.ndarray'>\n"
     ]
    }
   ],
   "source": [
    "X2 = np.array(X)\n",
    "print X2\n",
    "print np.shape(X2)\n",
    "print 'X is of type ' + str(type(X2))"
   ]
  },
  {
   "cell_type": "markdown",
   "metadata": {},
   "source": [
    "In any case, how do you add two arrays in numpy?  Pretty straight-forward."
   ]
  },
  {
   "cell_type": "code",
   "execution_count": 22,
   "metadata": {
    "collapsed": false
   },
   "outputs": [
    {
     "name": "stdout",
     "output_type": "stream",
     "text": [
      "the matrix X\n",
      "[[0 1 2]\n",
      " [1 4 2]\n",
      " [5 3 1]]\n",
      "\n",
      "\n",
      "the matrix Y\n",
      "[[3 3 3]\n",
      " [2 8 1]\n",
      " [0 2 1]]\n",
      "\n",
      "\n",
      "the matrix X + Y\n",
      "[[ 3  4  5]\n",
      " [ 3 12  3]\n",
      " [ 5  5  2]]\n"
     ]
    }
   ],
   "source": [
    "# create two 3x3 matrices\n",
    "X = np.array([[0,1,2],[1,4,2],[5,3,1]])\n",
    "Y = np.array([[3,3,3],[2,8,1],[0,2,1]])\n",
    "print 'the matrix X'\n",
    "print X \n",
    "print '\\n'\n",
    "print 'the matrix Y'\n",
    "print Y\n",
    "print '\\n'\n",
    "\n",
    "# add the two matrices\n",
    "Z = X + Y\n",
    "print 'the matrix X + Y'\n",
    "print Z"
   ]
  },
  {
   "cell_type": "markdown",
   "metadata": {},
   "source": [
    "But as with vectors, **you can only add mat mmatrices of like size**.  Try adding the matrices below and see what happens"
   ]
  },
  {
   "cell_type": "code",
   "execution_count": 23,
   "metadata": {
    "collapsed": false
   },
   "outputs": [
    {
     "ename": "ValueError",
     "evalue": "operands could not be broadcast together with shapes (3,3) (2,2) ",
     "output_type": "error",
     "traceback": [
      "\u001b[0;31m--------------------------------------------------------------\u001b[0m",
      "\u001b[0;31mValueError\u001b[0m                   Traceback (most recent call last)",
      "\u001b[0;32m<ipython-input-23-1ad0b136851d>\u001b[0m in \u001b[0;36m<module>\u001b[0;34m()\u001b[0m\n\u001b[1;32m      1\u001b[0m \u001b[0mX\u001b[0m \u001b[0;34m=\u001b[0m \u001b[0mnp\u001b[0m\u001b[0;34m.\u001b[0m\u001b[0marray\u001b[0m\u001b[0;34m(\u001b[0m\u001b[0;34m[\u001b[0m\u001b[0;34m[\u001b[0m\u001b[0;36m0\u001b[0m\u001b[0;34m,\u001b[0m\u001b[0;36m1\u001b[0m\u001b[0;34m,\u001b[0m\u001b[0;36m2\u001b[0m\u001b[0;34m]\u001b[0m\u001b[0;34m,\u001b[0m\u001b[0;34m[\u001b[0m\u001b[0;36m1\u001b[0m\u001b[0;34m,\u001b[0m\u001b[0;36m4\u001b[0m\u001b[0;34m,\u001b[0m\u001b[0;36m2\u001b[0m\u001b[0;34m]\u001b[0m\u001b[0;34m,\u001b[0m\u001b[0;34m[\u001b[0m\u001b[0;36m5\u001b[0m\u001b[0;34m,\u001b[0m\u001b[0;36m3\u001b[0m\u001b[0;34m,\u001b[0m\u001b[0;36m1\u001b[0m\u001b[0;34m]\u001b[0m\u001b[0;34m]\u001b[0m\u001b[0;34m)\u001b[0m\u001b[0;34m\u001b[0m\u001b[0m\n\u001b[1;32m      2\u001b[0m \u001b[0mY\u001b[0m \u001b[0;34m=\u001b[0m \u001b[0mnp\u001b[0m\u001b[0;34m.\u001b[0m\u001b[0marray\u001b[0m\u001b[0;34m(\u001b[0m\u001b[0;34m[\u001b[0m\u001b[0;34m[\u001b[0m\u001b[0;36m0\u001b[0m\u001b[0;34m,\u001b[0m\u001b[0;36m1\u001b[0m\u001b[0;34m]\u001b[0m\u001b[0;34m,\u001b[0m\u001b[0;34m[\u001b[0m\u001b[0;36m2\u001b[0m\u001b[0;34m,\u001b[0m\u001b[0;36m3\u001b[0m\u001b[0;34m]\u001b[0m\u001b[0;34m]\u001b[0m\u001b[0;34m)\u001b[0m\u001b[0;34m\u001b[0m\u001b[0m\n\u001b[0;32m----> 3\u001b[0;31m \u001b[0mZ\u001b[0m \u001b[0;34m=\u001b[0m \u001b[0mX\u001b[0m\u001b[0;34m+\u001b[0m\u001b[0mY\u001b[0m\u001b[0;34m\u001b[0m\u001b[0m\n\u001b[0m",
      "\u001b[0;31mValueError\u001b[0m: operands could not be broadcast together with shapes (3,3) (2,2) "
     ]
    }
   ],
   "source": [
    "X = np.array([[0,1,2],[1,4,2],[5,3,1]])\n",
    "Y = np.array([[0,1],[2,3]])\n",
    "Z = X+Y"
   ]
  },
  {
   "cell_type": "markdown",
   "metadata": {},
   "source": [
    "### Multiplying a matrix times a scalar\n",
    "\n",
    "How do you think this works?  Say e.g., I want to multiply a matrix $\\bf{X}$ times 2.23?  Use numpy to test it out!"
   ]
  },
  {
   "cell_type": "code",
   "execution_count": null,
   "metadata": {
    "collapsed": true
   },
   "outputs": [],
   "source": [
    "# TODO: how does multiplying a matrix times a scalar work?  Use numpy to gain the intuition!\n",
    "\n",
    "\n"
   ]
  },
  {
   "cell_type": "markdown",
   "metadata": {},
   "source": [
    "### Multiplying a matrix times a vector\n",
    "\n",
    "A crucial concept for our purposes with regards to matrices is how to multiply a matrix times a vector - as many of the computations in machine learning algorithms require **matrix-vector products**.\n",
    "\n",
    "How do they work?  \n",
    "\n",
    "Suppose you want to multiply our $P \\times N$ matrix $\\bf{X}$ by an $N \\times 1$ vector $\\bf{w}$\n",
    "\n",
    "$\\mathbf{w}=\\left[\\begin{array}{c}\n",
    "w_{1}\\\\\n",
    "w_{2}\\\\\n",
    "\\vdots\\\\\n",
    "w_{N}\n",
    "\\end{array}\\right]$\n",
    "\n",
    "Mathematically we write this multiplication as $\\bf{X}\\bf{w}$, and the result of this multiplication is a $P \\times 1$ vector $\\bf{y}$.  You can write this as \n",
    "\n",
    "$\\bf{X}\\bf{w} = \\bf{y}$\n",
    "\n",
    "What does $\\bf{y}$ look like in terms of $\\bf{X}$ and $\\bf{w}$?  If we think of $\\bf{X}$ as a concenatination of row vectors then we can write the product $\\bf{y}$ simply as \n",
    "\n",
    "$\\mathbf{X}\\mathbf{w}=\\left[\\begin{array}{c}\n",
    "\\mathbf{x}_{1}^{T}\\mathbf{w}_{\\,}^{\\,}\\\\\n",
    "\\mathbf{x}_{2}^{T}\\mathbf{w}_{\\,}^{\\,}\\\\\n",
    "\\vdots\\\\\n",
    "\\mathbf{x}_{P}^{T}\\mathbf{w}_{\\,}^{\\,}\n",
    "\\end{array}\\right]=\\left[\\begin{array}{c}\n",
    "\\underset{n=1}{\\overset{N}{\\sum}}x_{1n}w_{n}\\\\\n",
    "\\underset{n=1}{\\overset{N}{\\sum}}x_{2n}w_{n}\\\\\n",
    "\\vdots\\\\\n",
    "\\underset{n=1}{\\overset{N}{\\sum}}x_{Pn}w_{n}\n",
    "\\end{array}\\right]$\n",
    "\n",
    "That is - each entry is an inner product of a row vector and the column vector $\\bf{w}$.\n",
    "\n",
    "NOTE: as with vectors and matrix addition, you can only multiply matrices of similar shape.  However unlike matrix addition you only need the *inner* dimensions to match in order to multiply.  For example with the example above we multiplied a $(P \\times N)$ matrix ($\\bf{X}$) by a $(N \\times 1$) vector ($\\bf{w}$) - the inner dimension has, which here was $N$, has to match - to get a $P \\times 1$ vector ($\\bf{w}$).\n",
    "\n",
    "How does this look in numpy?  Lets dig into an example."
   ]
  },
  {
   "cell_type": "code",
   "execution_count": 34,
   "metadata": {
    "collapsed": false
   },
   "outputs": [
    {
     "name": "stdout",
     "output_type": "stream",
     "text": [
      "X has shape = (4, 3)\n",
      "w has shape = (3, 1)\n",
      "y has shape = (4, 1)\n",
      "y = [[ 0]\n",
      " [ 7]\n",
      " [10]\n",
      " [ 6]]\n"
     ]
    }
   ],
   "source": [
    "# multiply an array by a vector?  No sweat.\n",
    "X = np.array([[12,3,-1],[0,1,2],[1,4,2],[5,3,1]])\n",
    "w = np.array([0,1,3])\n",
    "w.shape = (len(w),1)\n",
    "y = np.dot(X,w)\n",
    "print \"X has shape = \" + str(np.shape(X))\n",
    "print \"w has shape = \" + str(np.shape(w))\n",
    "print \"y has shape = \" + str(np.shape(y))\n",
    "print 'y = ' + str(y)"
   ]
  },
  {
   "cell_type": "markdown",
   "metadata": {},
   "source": [
    "Note with numpy we didn't need to re-shape the vector $\\bf{w}$ to have a second dimension.  At creation it has only one dimension but numpy will figure out the right way to multiply the matrix and vector in this case - even if mathematically the multiplication doesn't make sense.  However the output will also have only 1 dimension as well."
   ]
  },
  {
   "cell_type": "code",
   "execution_count": 33,
   "metadata": {
    "collapsed": false
   },
   "outputs": [
    {
     "name": "stdout",
     "output_type": "stream",
     "text": [
      "X has shape = (4, 3)\n",
      "w has shape = (3,)\n",
      "y has shape = (4,)\n",
      "y = [ 0  7 10  6]\n"
     ]
    }
   ],
   "source": [
    "# multiply an array by a vector?  No sweat.\n",
    "X = np.array([[12,3,-1],[0,1,2],[1,4,2],[5,3,1]])\n",
    "w = np.array([0,1,3])\n",
    "y = np.dot(X,w)\n",
    "print \"X has shape = \" + str(np.shape(X))\n",
    "print \"w has shape = \" + str(np.shape(w))\n",
    "print \"y has shape = \" + str(np.shape(y))\n",
    "print 'y = ' + str(y)"
   ]
  },
  {
   "cell_type": "code",
   "execution_count": 36,
   "metadata": {
    "collapsed": true
   },
   "outputs": [],
   "source": [
    "# TODO: What error do you get if you try to multiply a\n",
    "# matrix and a vector that don't have matching inner-shape?\n",
    "\n",
    "\n"
   ]
  },
  {
   "cell_type": "markdown",
   "metadata": {},
   "source": [
    "For further info on matrix multiplication [see this appendix document](http://media.wix.com/ugd/f09e45_5e6ded23bdae4f84aeeedec53a909a35.pdf) from [1]."
   ]
  }
 ],
 "metadata": {
  "anaconda-cloud": {},
  "kernelspec": {
   "display_name": "Python [conda root]",
   "language": "python",
   "name": "conda-root-py"
  },
  "language_info": {
   "codemirror_mode": {
    "name": "ipython",
    "version": 2
   },
   "file_extension": ".py",
   "mimetype": "text/x-python",
   "name": "python",
   "nbconvert_exporter": "python",
   "pygments_lexer": "ipython2",
   "version": "2.7.12"
  }
 },
 "nbformat": 4,
 "nbformat_minor": 1
}
