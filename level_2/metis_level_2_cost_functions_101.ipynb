{
 "cells": [
  {
   "cell_type": "markdown",
   "metadata": {},
   "source": [
    "#  Cost functions 101\n",
    "\n",
    "In this notebook we discuss the notion of a *cost function* which is intimately tied to the proper application of all major machine learning algorithms (including all of the ones we have seen in level 1 of the course).  This connection is the key to understanding how \n",
    "\n",
    "\n",
    "- the proper slope and intercept found when we used linear regression to fit a dataset\n",
    "\n",
    "\n",
    "- the proper line was found when we performed two-class classification (and likewise for multi-class classification)\n",
    "\n",
    "\n",
    "- nonlinearity was created when performing nonlienar regression and classification\n",
    "\n",
    "\n",
    "\n",
    "Cost functions are the cornerstone of machine learning - and key to getting inside the black box.\n",
    "\n",
    "\n",
    "------\n",
    "This isn't a notebook you just read - you'll need to complete several coding portions of it (either individually or in groups) and think about the questions posed herein in order to build up your intuitive understanding of these algorithms, as well as your practical ability to use them via scikit-learn.  Whenever you see 'TODO' please do perform the requested task.\n",
    "\n",
    "In other words, this is 'learning by discovery' notebook where you (either individually or in small groups) will start to build up your understanding of machine learning by doing real work and discussing it with your peers and instructors.  This is the best way to learn anything, far more effective than a book or lecture series."
   ]
  },
  {
   "cell_type": "markdown",
   "metadata": {},
   "source": [
    "# 1.  A hidden duality exposed\n",
    "\n",
    "When we fit a line or nonlinear curve in level 1 of the course, we saw the predicted outcome: a single curve or surface fit to a dataset.  But lying just beneath the surface of each of those fitting processes was another kind of curve/surface that we could not see: a *cost function*.  This was iplicitly used by each algorithm to determine the best choice of parameters for a given dataset.  \n",
    "\n",
    "Take - for example - linear regression.  In two dimensions.  Here we have only two parameters to tune: the slope and y-intercept of the line.  For any choice of these two parameters we can measure how well the line fits by calculating the total error - or the differences - between each point and a surrogate line.  This is illustrated in the image below taken from  [[1]](#bib_cell) - here the length of each dashed black line between a point and the example line (shown in magenta) is an individual error.  \n",
    "\n",
    "<img src=\"images/lin_regression_errors.png\" width=350 height=350/>\n",
    "\n",
    "By summing these up we can get a reasonable sense of how well the line fits the data.  Why?  Intuitively - \n",
    "\n",
    "- If this total error is large then - on average - the line does not represent the points very well.  \n",
    "\n",
    "\n",
    "- On the other hand - the smaller this error is then the better a line fits the data.  \n",
    "\n",
    "\n",
    "and so by this logic we should seek the line that **minimizes** this total error.  But how in the world do we find this line - or equivalently its parameters?\n",
    "\n",
    "This is where the *cost function* comes into play.  "
   ]
  },
  {
   "cell_type": "markdown",
   "metadata": {},
   "source": [
    "## 1.1  Putting together the cost function point-by-point\n",
    "\n",
    "The gif below animates the process of testing out a bunch of lines on a toy dataset (this simulation was inspired by [[2]](#bib_cell)) .  Shown first and last is the best fitting line in green - and in are about 50 random lines are drawn in magenta.  While each line is drawn in the left panel - in the right panel we plot a point in 3 dimensional space: the two parameters of the line (its slope and y-intercept) along with the corresponding total error - or *cost* - of this line on the dataset.  For the best fitting line this point is a big green dot - for the others they are drawn smaller and in magenta.\n",
    "  \n",
    "Notice as we proceed through the simulation that these points - each representing a slope/y-intercept/cost value - start to fill out a *surface* shown in light blue.  if we were to continue these experiments we would eventually fill out the entire smooth blue surface!  This is the *cost function* associated with linear regression on the dataset shown.  For any given choice of slope/intercept it gives us the cost value of the corresponding line on the data.  Again note: this cost function is *continuous* and *smooth*."
   ]
  },
  {
   "cell_type": "markdown",
   "metadata": {},
   "source": [
    "<img src=\"images/chelsea_regress_demo.gif\" width=500 height=250/>"
   ]
  },
  {
   "cell_type": "markdown",
   "metadata": {},
   "source": [
    "A similar story holds for classification schemes like logistic regression. For a two-dimensional example like the one shown below we can try a bunch of different random values for shape of the logistic fit - and we carve out a cost function like the one shown evolving in the right panel of gif below (again this simulation was inspired by [[2]](#bib_cell)).  We are not fitting a line to the data here - and the error is *not* the same as with linear regression (we will see this later) - but in principal we have a very similar phenomenon: a cost function whose minimum describes the set of parameters of the fitting function that make it best fit a dataset.\n",
    "\n",
    "<img src=\"images/chelsea_logistic_demo.gif\" width=500 height=250/>\n",
    "\n",
    "Again note - this cost function (or surface) is *continuous* and *smooth*.   "
   ]
  },
  {
   "cell_type": "markdown",
   "metadata": {},
   "source": [
    "This sort of thing holds much more generally as well - to encompass **all major supervised learning algorithms**.  \n",
    "\n",
    "So - in sum - what we have seen at a high level is that \n",
    "\n",
    "- There is a continuous and smooth cost function associated to both regression and classification problems.\n",
    "\n",
    "\n",
    "- Finding the set of parameters that **minimizes** this cost function provides us with the best fit / separation with regression / classification."
   ]
  },
  {
   "cell_type": "markdown",
   "metadata": {},
   "source": [
    "# 2.  To the notes!\n",
    "\n",
    "See the pdf of handwritten notes called\n",
    "\n",
    ">**metis_level_2_optmization_101_notes.pdf**\n",
    "\n",
    "These are based on Chapter 2 of  [[1]](#bib_cell) - which you can [find online here](https://media.wix.com/ugd/f09e45_2c741285adf14e5aa9fd0696128a1275.pdf)."
   ]
  },
  {
   "cell_type": "markdown",
   "metadata": {},
   "source": [
    "<a id='bib_cell'></a>\n",
    "\n",
    "## Bibliography\n",
    "\n",
    "[1] Watt, Jeremy et al. [Machine Learning Refined](www.mlrefined.com). Cambridge University Press, 2016\n",
    "\n",
    "[2] Troy, Chelsea. [Machine Learning Intuition: Understanding Cost Functions](goo.gl/NT0DWg)"
   ]
  },
  {
   "cell_type": "code",
   "execution_count": 14,
   "metadata": {
    "collapsed": false
   },
   "outputs": [
    {
     "data": {
      "image/png": "[encoded data removed]",
      "text/plain": [
       "<matplotlib.figure.Figure at 0x1111094d0>"
      ]
     },
     "metadata": {},
     "output_type": "display_data"
    }
   ],
   "source": [
    "import numpy as np\n",
    "import matplotlib.pyplot as plt\n",
    "xvals = np.arange(-1, 1, 0.01) # Grid of 0.01 spacing from -2 to 10\n",
    "yvals = xvals**2 # Evaluate function on xvals\n",
    "plt.plot(xvals, yvals) # Create line plot with yvals against xvals\n",
    "# plt.show()\n",
    "\n",
    "\n",
    "newyvals = 0.6*xvals-0.09 # Evaluate quadratic approximation on xvals\n",
    "plt.plot(xvals, newyvals) # Create line plot with red dashed line\n",
    "# plt.title(’Example plots’)\n",
    "# plt.xlabel(’Input’)\n",
    "# plt.ylabel(’Function values’)\n",
    "plt.show()"
   ]
  },
  {
   "cell_type": "code",
   "execution_count": 6,
   "metadata": {
    "collapsed": false
   },
   "outputs": [
    {
     "name": "stdout",
     "output_type": "stream",
     "text": [
      "1.84400967666e-10\n"
     ]
    }
   ],
   "source": [
    "# Coding up an example of gradient descent\n",
    "import random\n",
    "val = random.uniform(-1, 1)\n",
    "alpha = 0.1\n",
    "for x in range(1,101):\n",
    "    val = val - alpha * 2 * val\n",
    "print val\n"
   ]
  },
  {
   "cell_type": "code",
   "execution_count": 7,
   "metadata": {
    "collapsed": false
   },
   "outputs": [
    {
     "name": "stdout",
     "output_type": "stream",
     "text": [
      "3.45960551635e-20\n"
     ]
    }
   ],
   "source": [
    "# Coding up another example of gradient descent\n",
    "import random\n",
    "val_1 = random.uniform(-1, 1)\n",
    "val_2 = random.uniform(-1, 1)\n",
    "alpha = 0.9\n",
    "for x in range(1,101):\n",
    "    val_1 = val_1 - alpha * 2 * val_1\n",
    "    val_2 = val_2 - alpha * 2 * val_2\n",
    "print val_1**2 + val_2**2"
   ]
  },
  {
   "cell_type": "code",
   "execution_count": 49,
   "metadata": {
    "collapsed": false
   },
   "outputs": [
    {
     "name": "stdout",
     "output_type": "stream",
     "text": [
      "-0.694532456595\n"
     ]
    }
   ],
   "source": [
    "# Coding up another example of gradient descent\n",
    "import random\n",
    "import math\n",
    "val_1 = random.uniform(-10, 10)\n",
    "val_2 = random.uniform(-10, 10)\n",
    "alpha = 1\n",
    "for x in range(1,101):\n",
    "    val_1 = val_1 - alpha * (math.cos(val_1 + val_2) + 0.01 * 2 * val_1)\n",
    "    val_2 = val_2 - alpha * (math.cos(val_1 + val_2) + 0.01 * 2 * val_2)\n",
    "print math.sin(val_1 + val_2) + 0.01 * (val_1**2 + val_2**2)"
   ]
  },
  {
   "cell_type": "code",
   "execution_count": 48,
   "metadata": {
    "collapsed": false
   },
   "outputs": [
    {
     "data": {
      "image/png": "[encoded data removed]",
      "text/plain": [
       "<matplotlib.figure.Figure at 0x11410e610>"
      ]
     },
     "metadata": {},
     "output_type": "display_data"
    }
   ],
   "source": [
    "# Cost function plotting\n",
    "import numpy as np\n",
    "import matplotlib.pyplot as plt\n",
    "xvals = np.arange(-10, 10,0.01) # Grid of 0.01 spacing from -2 to 10\n",
    "yvals = np.sin(xvals)+0.1*xvals**2 # Evaluate function on xvals\n",
    "plt.plot(xvals, yvals) # Create line plot with yvals against xvals\n",
    "# plt.show()\n",
    "\n",
    "\n",
    "newyvals = (np.cos(1)+0.2)*xvals + (np.sin(1)+0.1*1**2 - (np.cos(1)+0.2)*1) # Evaluate quadratic approximation on xvals\n",
    "plt.plot(xvals, newyvals) # Create line plot with red dashed line\n",
    "# plt.title(’Example plots’)\n",
    "# plt.xlabel(’Input’)\n",
    "# plt.ylabel(’Function values’)\n",
    "plt.show()"
   ]
  },
  {
   "cell_type": "code",
   "execution_count": 86,
   "metadata": {
    "collapsed": false
   },
   "outputs": [],
   "source": [
    "# coding gradient descent\n",
    "def compute_gradient(x,y,w):\n",
    "    P = len(y)\n",
    "    grad = 0\n",
    "    for p in range(P):\n",
    "        x_p = np.array([1,x[p]])\n",
    "        x_p.shape = (len(x_p),1)\n",
    "        y_p = y[p]\n",
    "        temp = np.dot(x_p*x_p.T,w) - x_p*y_p\n",
    "        grad+=2*temp\n",
    "    return grad"
   ]
  },
  {
   "cell_type": "code",
   "execution_count": 26,
   "metadata": {
    "collapsed": false,
    "scrolled": false
   },
   "outputs": [
    {
     "name": "stdout",
     "output_type": "stream",
     "text": [
      "12.5610036952\n",
      "[  2.40833453e-01   1.72961589e-01   6.14645951e-02   5.49415494e-01\n",
      "   2.26326317e-01   5.09529376e-01   2.35260756e-01   2.21632766e-01\n",
      "   4.05674575e-01   3.81764537e-01   4.42392379e-01   7.34230472e-02\n",
      "   9.34675782e-01   4.42070131e-02   6.49911719e-01   5.20486904e-01\n",
      "   3.55306627e-01   6.49796778e-01   2.80811861e-01   6.81574435e-01\n",
      "   5.06759518e-01   5.48589349e-01   5.68882836e-01   8.03228411e-01\n",
      "   3.61872520e-01   5.54302045e-01   7.81662701e-01   8.74326947e-02\n",
      "   6.08961337e-04   6.78297424e-01   6.84824292e-01   5.28741708e-01\n",
      "   8.13066041e-01   1.96761092e-01   3.65378369e-01   2.91441849e-01\n",
      "   6.56917815e-01   7.31607423e-01   9.74500770e-02   7.32027350e-02\n",
      "   4.76350205e-01   6.67685532e-02   7.26999763e-02   9.02677068e-01\n",
      "   4.55960736e-01   7.58224528e-01   6.82661718e-02   6.07531839e-01\n",
      "   8.24634007e-01]\n"
     ]
    }
   ],
   "source": [
    "### in this cell we import necessary libraries for the demo\n",
    "import numpy as np                  # a fundamental numerical linear algebra library\n",
    "import matplotlib.pyplot as plt     # a basic plotting library\n",
    "import pandas as pd                 # a basic data handling library\n",
    "import sys\n",
    "sys.path.append('utils')\n",
    "\n",
    "# this line is required in order to plot in a jupyter notebook itself\n",
    "%matplotlib inline       \n",
    "\n",
    "# load in the data and true function\n",
    "data = np.asarray(pd.read_csv('~/Workspace/Metis_MachineLearningCourse/chi17_ml1/level_1/datasets/regr_linear_data.csv'))\n",
    "input_data_1 = data[:,0]\n",
    "output_data_1 = data[:,1]\n",
    "\n",
    "ww = np.array([2,1])\n",
    "\n",
    "theta1 = 0\n",
    "theta2 = 0\n",
    "\n",
    "print np.dot(input_data_1,np.transpose(input_data_1))\n",
    "print input_data_1"
   ]
  },
  {
   "cell_type": "code",
   "execution_count": 87,
   "metadata": {
    "collapsed": false
   },
   "outputs": [
    {
     "data": {
      "text/plain": [
       "array([[ 41.94880764],\n",
       "       [ 25.01033551]])"
      ]
     },
     "execution_count": 87,
     "metadata": {},
     "output_type": "execute_result"
    }
   ],
   "source": [
    "# def grad_desc(alpha,iterations,theta0,theta1,x,y):\n",
    "alpha = 1\n",
    "iterations = 100\n",
    "theta0 = 0\n",
    "theta1 = 0\n",
    "theta = np.array([theta0,theta1])\n",
    "theta.shape = [2,1]\n",
    "theta\n",
    "x = input_data_1\n",
    "y = output_data_1\n",
    "#     for i in range(iterations):\n",
    "theta = theta - compute_gradient(x,y,theta)\n",
    "theta"
   ]
  },
  {
   "cell_type": "code",
   "execution_count": 67,
   "metadata": {
    "collapsed": false
   },
   "outputs": [
    {
     "data": {
      "text/plain": [
       "array([[-9223372036854775808],\n",
       "       [-9223372036854775808]])"
      ]
     },
     "execution_count": 67,
     "metadata": {},
     "output_type": "execute_result"
    }
   ],
   "source": [
    "grad_desc(0.1,100,0,0,input_data_1,output_data_1)"
   ]
  },
  {
   "cell_type": "code",
   "execution_count": 27,
   "metadata": {
    "collapsed": false
   },
   "outputs": [
    {
     "data": {
      "text/plain": [
       "[0,\n",
       " 1,\n",
       " 2,\n",
       " 3,\n",
       " 4,\n",
       " 5,\n",
       " 6,\n",
       " 7,\n",
       " 8,\n",
       " 9,\n",
       " 10,\n",
       " 11,\n",
       " 12,\n",
       " 13,\n",
       " 14,\n",
       " 15,\n",
       " 16,\n",
       " 17,\n",
       " 18,\n",
       " 19,\n",
       " 20,\n",
       " 21,\n",
       " 22,\n",
       " 23,\n",
       " 24,\n",
       " 25,\n",
       " 26,\n",
       " 27,\n",
       " 28,\n",
       " 29,\n",
       " 30,\n",
       " 31,\n",
       " 32,\n",
       " 33,\n",
       " 34,\n",
       " 35,\n",
       " 36,\n",
       " 37,\n",
       " 38,\n",
       " 39,\n",
       " 40,\n",
       " 41,\n",
       " 42,\n",
       " 43,\n",
       " 44,\n",
       " 45,\n",
       " 46,\n",
       " 47,\n",
       " 48]"
      ]
     },
     "execution_count": 27,
     "metadata": {},
     "output_type": "execute_result"
    }
   ],
   "source": [
    "range(len(output_data_1))"
   ]
  },
  {
   "cell_type": "code",
   "execution_count": 28,
   "metadata": {
    "collapsed": false
   },
   "outputs": [
    {
     "data": {
      "text/plain": [
       "49"
      ]
     },
     "execution_count": 28,
     "metadata": {},
     "output_type": "execute_result"
    }
   ],
   "source": [
    "len(output_data_1)"
   ]
  },
  {
   "cell_type": "code",
   "execution_count": 29,
   "metadata": {
    "collapsed": false
   },
   "outputs": [
    {
     "data": {
      "text/plain": [
       "array([ 0.2495954 ,  0.09078019,  0.03528123,  0.47081486,  0.23325631,\n",
       "        0.51974422,  0.27136881,  0.19441688,  0.34089445,  0.32969877,\n",
       "        0.48377801,  0.11816847,  0.90777878, -0.08016942,  0.71718274,\n",
       "        0.45957929,  0.35651099,  0.62186995,  0.28794196,  0.63969735,\n",
       "        0.54899965,  0.53520996,  0.56499203,  0.85420825,  0.31156045,\n",
       "        0.66016141,  0.78031191,  0.06328695,  0.07885285,  0.71348366,\n",
       "        0.69509849,  0.53146482,  0.78576792,  0.21264857,  0.32877453,\n",
       "        0.29282314,  0.68117455,  0.64108884,  0.10603338,  0.03620366,\n",
       "        0.44019034,  0.05270691,  0.0830166 ,  0.94211594,  0.41693022,\n",
       "        0.82257892,  0.14828632,  0.54167307,  0.85657123])"
      ]
     },
     "execution_count": 29,
     "metadata": {},
     "output_type": "execute_result"
    }
   ],
   "source": [
    "output_data_1"
   ]
  },
  {
   "cell_type": "code",
   "execution_count": null,
   "metadata": {
    "collapsed": true
   },
   "outputs": [],
   "source": []
  }
 ],
 "metadata": {
  "anaconda-cloud": {},
  "kernelspec": {
   "display_name": "Python 2",
   "language": "python",
   "name": "python2"
  },
  "language_info": {
   "codemirror_mode": {
    "name": "ipython",
    "version": 2
   },
   "file_extension": ".py",
   "mimetype": "text/x-python",
   "name": "python",
   "nbconvert_exporter": "python",
   "pygments_lexer": "ipython2",
   "version": "2.7.13"
  }
 },
 "nbformat": 4,
 "nbformat_minor": 1
}
