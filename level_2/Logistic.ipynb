{
 "cells": [
  {
   "cell_type": "code",
   "execution_count": 27,
   "metadata": {
    "collapsed": true
   },
   "outputs": [],
   "source": [
    "import numpy as np\n",
    "import matplotlib.pyplot as plt\n",
    "import pandas as pd\n",
    "%matplotlib inline"
   ]
  },
  {
   "cell_type": "code",
   "execution_count": 33,
   "metadata": {
    "collapsed": false
   },
   "outputs": [
    {
     "data": {
      "text/plain": [
       "<matplotlib.collections.PathCollection at 0x119bc3a50>"
      ]
     },
     "execution_count": 33,
     "metadata": {},
     "output_type": "execute_result"
    },
    {
     "data": {
      "image/png": "[encoded data removed]",
      "text/plain": [
       "<matplotlib.figure.Figure at 0x119814790>"
      ]
     },
     "metadata": {},
     "output_type": "display_data"
    }
   ],
   "source": [
    "data = np.loadtxt('/Users/outrageous/Workspace/Metis_MachineLearningCourse/chi17_ml1/level_2/datasets/1d_logistic_data_v1.csv',delimiter=' ')\n",
    "x = data[:,0]\n",
    "x.shape = (len(x),1)\n",
    "y = data[:,1]\n",
    "y.shape = (len(y),1)\n",
    "\n",
    "plt.scatter(x,y)"
   ]
  },
  {
   "cell_type": "code",
   "execution_count": 34,
   "metadata": {
    "collapsed": true
   },
   "outputs": [],
   "source": [
    "def compute_cost_val(x,y,w):\n",
    "    P = len(y)\n",
    "    cost = 0\n",
    "    for p in range(P):\n",
    "        x_p = list(x[p])\n",
    "        x_p.insert(0,1)\n",
    "        x_p = np.array(x_p)\n",
    "        x_p.shape = (len(x_p),1)\n",
    "        \n",
    "        y_p = y[p]\n",
    "        cost += np.log(1 + np.exp(-y_p*np.dot(x_p.T,w)))\n",
    "    return cost[0]\n",
    "\n",
    "# function for computing the logistic regression cost gradient\n",
    "def compute_gradient(x,y,w):\n",
    "    # produce gradient for each class weights\n",
    "    P = len(y)\n",
    "    grad = 0\n",
    "    for p in range(P):\n",
    "        x_p = list(x[p])\n",
    "        x_p.insert(0,1)\n",
    "        x_p = np.array(x_p)\n",
    "        x_p.shape = (len(x_p),1)\n",
    "        \n",
    "        y_p = y[p]\n",
    "        grad+= -1/(1 + np.exp(y_p*np.dot(x_p.T,w)))*y_p*x_p\n",
    "    \n",
    "    grad.shape = (len(grad),1)\n",
    "    return grad\n",
    "\n",
    "# gradient descent loop\n",
    "def grad_descent(x,y,alpha,K,w0):\n",
    "    w = w0\n",
    "    \n",
    "    # create container to record weights\n",
    "    whist = []\n",
    "    \n",
    "    # descent loop\n",
    "    for k in range(K):\n",
    "        # record current weight\n",
    "        whist.append(w)\n",
    "        \n",
    "        # compute derivative\n",
    "        grad = compute_gradient(x,y,w)\n",
    "        \n",
    "        # take descent step\n",
    "        w = w - alpha*grad\n",
    "        \n",
    "    return whist"
   ]
  },
  {
   "cell_type": "code",
   "execution_count": 40,
   "metadata": {
    "collapsed": false
   },
   "outputs": [],
   "source": [
    "# inputs to gradient descent\n",
    "w0 = 2*np.random.rand(2,1) - 1\n",
    "alpha = 10**-1\n",
    "K = 1000\n",
    "\n",
    "# run gradient descent\n",
    "whist = grad_descent(x,y,alpha,K,w0)"
   ]
  },
  {
   "cell_type": "code",
   "execution_count": 41,
   "metadata": {
    "collapsed": false
   },
   "outputs": [
    {
     "data": {
      "image/png": "[encoded data removed]",
      "text/plain": [
       "<matplotlib.figure.Figure at 0x1198dc2d0>"
      ]
     },
     "metadata": {},
     "output_type": "display_data"
    }
   ],
   "source": [
    "# compute the associated ccst function values\n",
    "ghist = []\n",
    "for w in whist:\n",
    "    g = compute_cost_val(x,y,w)\n",
    "    ghist.append(g)\n",
    "ghist = np.array(ghist)\n",
    "ghist.shape = (len(ghist),1)\n",
    "plt.plot(ghist)\n",
    "plt.xlabel('step')\n",
    "plt.ylabel('cost value')\n",
    "plt.show()"
   ]
  },
  {
   "cell_type": "code",
   "execution_count": 45,
   "metadata": {
    "collapsed": false
   },
   "outputs": [
    {
     "data": {
      "image/png": "[encoded data removed]",
      "text/plain": [
       "<matplotlib.figure.Figure at 0x11a2a2cd0>"
      ]
     },
     "metadata": {},
     "output_type": "display_data"
    }
   ],
   "source": [
    "# now lets plot the points and line\n",
    "plt.scatter(x,y)\n",
    "s = np.linspace(-5,5,1000)\n",
    "w = whist[-1]\n",
    "t = np.tanh(w[0] + w[1]*s)\n",
    "plt.plot(s,t,c = 'r',linewidth = 2)\n",
    "plt.show()"
   ]
  },
  {
   "cell_type": "code",
   "execution_count": null,
   "metadata": {
    "collapsed": true
   },
   "outputs": [],
   "source": []
  }
 ],
 "metadata": {
  "kernelspec": {
   "display_name": "Python 2",
   "language": "python",
   "name": "python2"
  },
  "language_info": {
   "codemirror_mode": {
    "name": "ipython",
    "version": 2
   },
   "file_extension": ".py",
   "mimetype": "text/x-python",
   "name": "python",
   "nbconvert_exporter": "python",
   "pygments_lexer": "ipython2",
   "version": "2.7.13"
  }
 },
 "nbformat": 4,
 "nbformat_minor": 2
}
