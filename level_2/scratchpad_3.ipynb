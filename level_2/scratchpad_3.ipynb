{
 "cells": [
  {
   "cell_type": "code",
   "execution_count": 7,
   "metadata": {
    "collapsed": true
   },
   "outputs": [],
   "source": [
    "import numpy as np\n",
    "import matplotlib.pyplot as plt\n",
    "import pandas as pd\n",
    "%matplotlib inline"
   ]
  },
  {
   "cell_type": "code",
   "execution_count": 8,
   "metadata": {
    "collapsed": true
   },
   "outputs": [],
   "source": [
    "# compute cost value\n",
    "def compute_cost_val(x,y,w):\n",
    "    P = len(y)\n",
    "    cost = 0\n",
    "    \n",
    "    # run over all data points and weights and compute total error\n",
    "    for p in range(P):\n",
    "        x_p = x[p]\n",
    "        y_p = y[p]\n",
    "        cost += (w[0] + np.dot(x_p,w[1:]) - y_p)**2\n",
    "    return cost"
   ]
  },
  {
   "cell_type": "code",
   "execution_count": 9,
   "metadata": {
    "collapsed": true
   },
   "outputs": [],
   "source": [
    "def compute_gradient(x,y,w):\n",
    "    P = len(y)\n",
    "    grad = 0\n",
    "    for p in range(P):\n",
    "        x_p = np.array([1,x[p]])\n",
    "        x_p.shape = (len(x_p),1)\n",
    "        y_p = y[p]\n",
    "        temp = np.dot(x_p*x_p.T,w) - x_p*y_p\n",
    "        grad+=2*temp\n",
    "    return grad"
   ]
  },
  {
   "cell_type": "code",
   "execution_count": 10,
   "metadata": {
    "collapsed": true
   },
   "outputs": [],
   "source": [
    "# gradient descent loop\n",
    "def grad_descent(x,y,alpha,K,w0):\n",
    "    w = w0\n",
    "    \n",
    "    # create container to record weights\n",
    "    whist = []\n",
    "    \n",
    "    # descent loop\n",
    "    for k in range(K):\n",
    "        # record current weight\n",
    "        whist.append(w)\n",
    "        \n",
    "        # compute derivative\n",
    "        grad = compute_gradient(x,y,w)\n",
    "        \n",
    "        # take descent step\n",
    "        w = w - alpha*grad\n",
    "        \n",
    "    return whist"
   ]
  },
  {
   "cell_type": "code",
   "execution_count": 13,
   "metadata": {
    "collapsed": false
   },
   "outputs": [],
   "source": [
    "data = np.asarray(pd.read_csv('~/Workspace/Metis_MachineLearningCourse/chi17_ml1/level_1/datasets/regr_linear_data.csv'))\n",
    "x = data[:,0]\n",
    "x.shape = (len(x),1)\n",
    "y = data[:,1]\n",
    "y.shape = (len(y),1)"
   ]
  },
  {
   "cell_type": "code",
   "execution_count": 35,
   "metadata": {
    "collapsed": false
   },
   "outputs": [],
   "source": [
    "# inputs to gradient descent\n",
    "w0 = 2*np.random.rand(2,1) - 1\n",
    "alpha = 100**-3\n",
    "K = 1000\n",
    "\n",
    "# run gradient descent\n",
    "whist = grad_descent(x,y,alpha,K,w0)"
   ]
  },
  {
   "cell_type": "code",
   "execution_count": 36,
   "metadata": {
    "collapsed": false
   },
   "outputs": [],
   "source": [
    "# compute the associated ccst function values\n",
    "ghist = []\n",
    "for w in whist:\n",
    "    g = compute_cost_val(x,y,w)\n",
    "    ghist.append(g)"
   ]
  },
  {
   "cell_type": "code",
   "execution_count": 37,
   "metadata": {
    "collapsed": false
   },
   "outputs": [
    {
     "data": {
      "text/plain": [
       "[<matplotlib.lines.Line2D at 0x11bd21850>]"
      ]
     },
     "execution_count": 37,
     "metadata": {},
     "output_type": "execute_result"
    },
    {
     "data": {
      "image/png": "[encoded data removed]",
      "text/plain": [
       "<matplotlib.figure.Figure at 0x11bbdc7d0>"
      ]
     },
     "metadata": {},
     "output_type": "display_data"
    }
   ],
   "source": [
    "plt.plot(ghist)"
   ]
  },
  {
   "cell_type": "code",
   "execution_count": 38,
   "metadata": {
    "collapsed": false
   },
   "outputs": [
    {
     "data": {
      "text/plain": [
       "[<matplotlib.lines.Line2D at 0x11bc04a10>]"
      ]
     },
     "execution_count": 38,
     "metadata": {},
     "output_type": "execute_result"
    },
    {
     "data": {
      "image/png": "[encoded data removed]",
      "text/plain": [
       "<matplotlib.figure.Figure at 0x11bc04fd0>"
      ]
     },
     "metadata": {},
     "output_type": "display_data"
    }
   ],
   "source": [
    "# now lets plot the points and line\n",
    "plt.scatter(x,y)\n",
    "s = np.linspace(0,1)\n",
    "w = whist[-1]\n",
    "t = w[0] + w[1]*s\n",
    "plt.plot(s,t,c = 'r',linewidth = 2)"
   ]
  },
  {
   "cell_type": "code",
   "execution_count": null,
   "metadata": {
    "collapsed": true
   },
   "outputs": [],
   "source": []
  }
 ],
 "metadata": {
  "kernelspec": {
   "display_name": "Python 2",
   "language": "python",
   "name": "python2"
  },
  "language_info": {
   "codemirror_mode": {
    "name": "ipython",
    "version": 2
   },
   "file_extension": ".py",
   "mimetype": "text/x-python",
   "name": "python",
   "nbconvert_exporter": "python",
   "pygments_lexer": "ipython2",
   "version": "2.7.13"
  }
 },
 "nbformat": 4,
 "nbformat_minor": 1
}
