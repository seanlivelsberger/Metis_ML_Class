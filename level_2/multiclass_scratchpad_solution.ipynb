{
 "cells": [
  {
   "cell_type": "code",
   "execution_count": 1,
   "metadata": {
    "collapsed": false
   },
   "outputs": [],
   "source": [
    "import numpy as np\n",
    "import matplotlib.pyplot as plt\n",
    "import pandas as pd\n",
    "import sys\n",
    "sys.path.append('../utils')            # append our utility names\n",
    "%matplotlib inline"
   ]
  },
  {
   "cell_type": "markdown",
   "metadata": {},
   "source": [
    "# Load in the data"
   ]
  },
  {
   "cell_type": "code",
   "execution_count": 2,
   "metadata": {
    "collapsed": false
   },
   "outputs": [
    {
     "data": {
      "image/png": "[encoded data removed]",
      "text/plain": [
       "<matplotlib.figure.Figure at 0x1068b5bd0>"
      ]
     },
     "metadata": {},
     "output_type": "display_data"
    }
   ],
   "source": [
    "# load in the data and labels\n",
    "data = np.asarray(pd.read_csv('../datasets/3class_data.csv'))\n",
    "x = data[:,:-1]\n",
    "y = data[:,-1]\n",
    "\n",
    "# plot the data and true underlying data-generating function\n",
    "import classification_level_1_utils as utils  # a set of simple plotting utilities for this notebook\n",
    "utils.plot_data(x,y)"
   ]
  },
  {
   "cell_type": "markdown",
   "metadata": {},
   "source": [
    "# Insert your gradient descent code for logistic regression here"
   ]
  },
  {
   "cell_type": "code",
   "execution_count": 3,
   "metadata": {
    "collapsed": true
   },
   "outputs": [],
   "source": [
    "def compute_cost_val(x,y,w):\n",
    "    P = len(y)\n",
    "    cost = 0\n",
    "    for p in range(P):\n",
    "        x_p = list(x[p])\n",
    "        x_p.insert(0,1)\n",
    "        x_p = np.array(x_p)\n",
    "        x_p.shape = (len(x_p),1)\n",
    "        \n",
    "        y_p = y[p]\n",
    "        cost += np.log(1 + np.exp(-y_p*np.dot(x_p.T,w)))\n",
    "    return cost[0]"
   ]
  },
  {
   "cell_type": "code",
   "execution_count": 4,
   "metadata": {
    "collapsed": true
   },
   "outputs": [],
   "source": [
    "# function for computing the logistic regression cost gradient\n",
    "def compute_gradient(x,y,w):\n",
    "    # produce gradient for each class weights\n",
    "    P = len(y)\n",
    "    grad = 0\n",
    "    for p in range(P):\n",
    "        x_p = list(x[p])\n",
    "        x_p.insert(0,1)\n",
    "        x_p = np.array(x_p)\n",
    "        x_p.shape = (len(x_p),1)\n",
    "        \n",
    "        y_p = y[p]\n",
    "        grad+= -1/(1 + np.exp(y_p*np.dot(x_p.T,w)))*y_p*x_p\n",
    "    \n",
    "    grad.shape = (len(grad),1)\n",
    "    return grad"
   ]
  },
  {
   "cell_type": "code",
   "execution_count": 5,
   "metadata": {
    "collapsed": true
   },
   "outputs": [],
   "source": [
    "# gradient descent function for softmax cost/logistic regression \n",
    "def gradient_descent(x,y,w,alpha,K):\n",
    "    # container for weight history\n",
    "    whist = []\n",
    "    \n",
    "    # grad descent loop\n",
    "    for j in range(K):\n",
    "        # update container\n",
    "        whist.append(w)\n",
    "        \n",
    "        # compute gradient\n",
    "        grad = compute_gradient(x,y,w)\n",
    "        w = w - alpha*grad;\n",
    "\n",
    "        # update iteration count\n",
    "    return whist"
   ]
  },
  {
   "cell_type": "markdown",
   "metadata": {},
   "source": [
    "# Make a 1 versus all meta-loop"
   ]
  },
  {
   "cell_type": "markdown",
   "metadata": {},
   "source": [
    "Our one versus all main loop - where we loop through each two-class subproblem and learn its respective weights."
   ]
  },
  {
   "cell_type": "code",
   "execution_count": 51,
   "metadata": {
    "collapsed": true
   },
   "outputs": [],
   "source": [
    "# learn all C separators\n",
    "def one_vs_all(x,y):\n",
    "    W = []\n",
    "    C = np.unique(y)\n",
    "    for c in C:\n",
    "        # prepare temporary subproblem labels\n",
    "        y_temp = np.copy(y)\n",
    "        ind = np.argwhere(y_temp == c)\n",
    "        ind = [v[0] for v in ind]\n",
    "        ind2 = np.argwhere(y_temp != c)\n",
    "        ind2 = [v[0] for v in ind2]\n",
    "        y_temp[ind] = 1\n",
    "        y_temp[ind2] = -1\n",
    "        \n",
    "        # run descent algorithm for subproblem\n",
    "        alpha = 10**-1\n",
    "        K = 200\n",
    "        w = np.random.randn(np.shape(x)[1] + 1,1);        # random initial point\n",
    "\n",
    "        # run gradient descent\n",
    "        whist = gradient_descent(x,y_temp,w,alpha,K)\n",
    "        \n",
    "        # print update\n",
    "        print 'subproblem ' + str(c) + ' complete'\n",
    "\n",
    "        # compute cost history from weight history\n",
    "        ghist = []\n",
    "        for k in range(K):\n",
    "            w_k = whist[k]\n",
    "            g_k = compute_cost_val(x,y_temp,w_k)\n",
    "            ghist.append(g_k)\n",
    "        plt.plot(ghist[10:])\n",
    "        \n",
    "        # store best weight from run\n",
    "        wbest = whist[np.argmin(ghist)]\n",
    "        wbest = whist[-1]\n",
    "        W.append(wbest)\n",
    "        \n",
    "    # turn W into an array\n",
    "    W = np.asarray(W)\n",
    "    W = W[:,:,0]\n",
    "    return W"
   ]
  },
  {
   "cell_type": "code",
   "execution_count": 52,
   "metadata": {
    "collapsed": false
   },
   "outputs": [
    {
     "name": "stdout",
     "output_type": "stream",
     "text": [
      "subproblem 1.0 complete\n",
      "subproblem 2.0 complete\n",
      "subproblem 3.0 complete\n"
     ]
    },
    {
     "data": {
      "image/png": "[encoded data removed]",
      "text/plain": [
       "<matplotlib.figure.Figure at 0x10c383110>"
      ]
     },
     "metadata": {},
     "output_type": "display_data"
    }
   ],
   "source": [
    "# run your one-versus-all function.  Should output weights for each individual classifier, which are fused when making prediction\n",
    "W = one_vs_all(x,y)"
   ]
  },
  {
   "cell_type": "markdown",
   "metadata": {},
   "source": [
    "# Plotting the results\n",
    "\n",
    "Use the plotting function below to see how your multiclass boundary shaped up!  All you need to insert your C two-class classifiers' weights.  Make sure to put these into one numpy array - where you stack the weights columnwise - shaped as follows.\n",
    "\n",
    "shape(W) = (3,C) \n",
    "\n",
    "where C is the number of classifiers."
   ]
  },
  {
   "cell_type": "code",
   "execution_count": 53,
   "metadata": {
    "collapsed": false
   },
   "outputs": [],
   "source": [
    "import classification_level_1_utils as utils  # a set of simple plotting utilities for this notebook\n",
    "\n",
    "# plot data and fused rule\n",
    "def plot_fused_rule(W,data,labels):\n",
    "    # plot data using utility \n",
    "    utils.plot_data(x,y)\n",
    "\n",
    "    # plot classification boundary and color regions appropriately\n",
    "    lower_bound = min(data.ravel())\n",
    "    upper_bound = max(data.ravel())\n",
    "    r = np.linspace(lower_bound - 0.1,upper_bound + 0.1,500)\n",
    "    s,t = np.meshgrid(r,r)\n",
    "    s = np.reshape(s,(np.size(s),1))\n",
    "    t = np.reshape(t,(np.size(t),1))\n",
    "    o = np.ones((np.shape(s)))\n",
    "    h = np.concatenate((o,s,t),1)\n",
    "    \n",
    "    # use classifier to make predictions\n",
    "    z = np.dot(h,W.T)\n",
    "    z = np.argmax(z,axis = 1) + 1\n",
    "    z.shape = (len(z),1)\n",
    "    \n",
    "    # reshape predictions for plotting\n",
    "    s.shape = (np.size(r),np.size(r))\n",
    "    t.shape = (np.size(r),np.size(r))\n",
    "    z.shape = (np.size(r),np.size(r))\n",
    "  \n",
    "    # print everything - boundary and region colors\n",
    "    unique_labels = np.unique(labels)\n",
    "\n",
    "    # show the classification boundary if it exists\n",
    "    if len(np.unique(z)) > 1:\n",
    "        plt.contour(s,t,z,colors = 'k',linewidths = 2.5,levels = unique_labels)"
   ]
  },
  {
   "cell_type": "code",
   "execution_count": 54,
   "metadata": {
    "collapsed": false
   },
   "outputs": [
    {
     "data": {
      "image/png": "[encoded data removed]",
      "text/plain": [
       "<matplotlib.figure.Figure at 0x10aa7ed90>"
      ]
     },
     "metadata": {},
     "output_type": "display_data"
    }
   ],
   "source": [
    "# use the multiclass plotting utility to show your fused boundary!\n",
    "plot_fused_rule(W,x,y)"
   ]
  }
 ],
 "metadata": {
  "anaconda-cloud": {},
  "kernelspec": {
   "display_name": "Python [conda root]",
   "language": "python",
   "name": "conda-root-py"
  },
  "language_info": {
   "codemirror_mode": {
    "name": "ipython",
    "version": 2
   },
   "file_extension": ".py",
   "mimetype": "text/x-python",
   "name": "python",
   "nbconvert_exporter": "python",
   "pygments_lexer": "ipython2",
   "version": "2.7.12"
  }
 },
 "nbformat": 4,
 "nbformat_minor": 1
}
