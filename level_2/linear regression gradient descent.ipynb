{
 "cells": [
  {
   "cell_type": "code",
   "execution_count": 2,
   "metadata": {
    "collapsed": true
   },
   "outputs": [],
   "source": [
    "import numpy as np\n",
    "import matplotlib.pyplot as plt\n",
    "import numpy as np                  # a fundamental numerical linear algebra library\n",
    "import matplotlib.pyplot as plt     # a basic plotting library\n",
    "import pandas as pd                 # a basic data handling library\n",
    "import sys\n",
    "sys.path.append('utils')\n",
    "%matplotlib inline"
   ]
  },
  {
   "cell_type": "code",
   "execution_count": 3,
   "metadata": {
    "collapsed": false
   },
   "outputs": [],
   "source": [
    "data = np.asarray(pd.read_csv('~/Workspace/Metis_MachineLearningCourse/chi17_ml1/level_1/datasets/regr_linear_data.csv'))\n",
    "input_data_1 = data[:,0]\n",
    "output_data_1 = data[:,1]"
   ]
  },
  {
   "cell_type": "code",
   "execution_count": 7,
   "metadata": {
    "collapsed": true
   },
   "outputs": [],
   "source": [
    "# cost function evaluator\n",
    "def compute_costval(x,y,w):\n",
    "    P = len(y)\n",
    "    costval = 0\n",
    "    for p in range(P):\n",
    "        x_p = np.array([1,x[p]])\n",
    "        x_p.shape = (len(x_p),1)\n",
    "        y_p = y[p]\n",
    "        temp = (np.dot(x_p.T,w) - y_p)**2\n",
    "        costval+=temp\n",
    "    return costval[0]"
   ]
  },
  {
   "cell_type": "code",
   "execution_count": 10,
   "metadata": {
    "collapsed": false
   },
   "outputs": [],
   "source": [
    "# lets plot using this cost function\n",
    "w_inputs = np.linspace(-1,1,400)\n",
    "\n",
    "gcost = []\n",
    "for w in w_inputs:\n",
    "    for ww in w_inputs:\n",
    "        theta = np.array([w,ww])\n",
    "        theta.shape = [2,1]\n",
    "        g = compute_costval(input_data_1,output_data_1,theta)\n",
    "        gcost.append(g)\n"
   ]
  },
  {
   "cell_type": "code",
   "execution_count": null,
   "metadata": {
    "collapsed": true
   },
   "outputs": [],
   "source": [
    "plt.plot(w_inputs,w_inputs,gcost)"
   ]
  },
  {
   "cell_type": "code",
   "execution_count": null,
   "metadata": {
    "collapsed": true
   },
   "outputs": [],
   "source": []
  }
 ],
 "metadata": {
  "kernelspec": {
   "display_name": "Python 2",
   "language": "python",
   "name": "python2"
  },
  "language_info": {
   "codemirror_mode": {
    "name": "ipython",
    "version": 2
   },
   "file_extension": ".py",
   "mimetype": "text/x-python",
   "name": "python",
   "nbconvert_exporter": "python",
   "pygments_lexer": "ipython2",
   "version": "2.7.13"
  }
 },
 "nbformat": 4,
 "nbformat_minor": 2
}
